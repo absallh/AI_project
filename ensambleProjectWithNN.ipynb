{
  "nbformat": 4,
  "nbformat_minor": 0,
  "metadata": {
    "colab": {
      "name": "ensambleProjectWithNN.ipynb",
      "provenance": [],
      "collapsed_sections": [],
      "authorship_tag": "ABX9TyMKdsQcD9JUV/JIRKO5ILbL",
      "include_colab_link": true
    },
    "kernelspec": {
      "name": "python3",
      "display_name": "Python 3"
    }
  },
  "cells": [
    {
      "cell_type": "markdown",
      "metadata": {
        "id": "view-in-github",
        "colab_type": "text"
      },
      "source": [
        "<a href=\"https://colab.research.google.com/github/absallh/AI_project/blob/master/ensambleProjectWithNN.ipynb\" target=\"_parent\"><img src=\"https://colab.research.google.com/assets/colab-badge.svg\" alt=\"Open In Colab\"/></a>"
      ]
    },
    {
      "cell_type": "code",
      "metadata": {
        "id": "eKPEULeX9tSl",
        "colab": {
          "base_uri": "https://localhost:8080/",
          "height": 17
        },
        "outputId": "47bf0dfc-164d-472c-97b7-f956fb4f52a5"
      },
      "source": [
        "#delete all moedels\r\n",
        "#!rm -rf saved_model/\r\n",
        "\r\n",
        "#download saved models folder\r\n",
        "#!zip -r saved_model.zip saved_model\r\n",
        "# from google.colab import files\r\n",
        "# files.download(\"saved_model.zip\")\r\n",
        "\r\n",
        "#unzip uploaded file\r\n",
        "# !unzip saved_model.zip -d saved_model"
      ],
      "execution_count": 22,
      "outputs": [
        {
          "output_type": "display_data",
          "data": {
            "application/javascript": [
              "\n",
              "    async function download(id, filename, size) {\n",
              "      if (!google.colab.kernel.accessAllowed) {\n",
              "        return;\n",
              "      }\n",
              "      const div = document.createElement('div');\n",
              "      const label = document.createElement('label');\n",
              "      label.textContent = `Downloading \"${filename}\": `;\n",
              "      div.appendChild(label);\n",
              "      const progress = document.createElement('progress');\n",
              "      progress.max = size;\n",
              "      div.appendChild(progress);\n",
              "      document.body.appendChild(div);\n",
              "\n",
              "      const buffers = [];\n",
              "      let downloaded = 0;\n",
              "\n",
              "      const channel = await google.colab.kernel.comms.open(id);\n",
              "      // Send a message to notify the kernel that we're ready.\n",
              "      channel.send({})\n",
              "\n",
              "      for await (const message of channel.messages) {\n",
              "        // Send a message to notify the kernel that we're ready.\n",
              "        channel.send({})\n",
              "        if (message.buffers) {\n",
              "          for (const buffer of message.buffers) {\n",
              "            buffers.push(buffer);\n",
              "            downloaded += buffer.byteLength;\n",
              "            progress.value = downloaded;\n",
              "          }\n",
              "        }\n",
              "      }\n",
              "      const blob = new Blob(buffers, {type: 'application/binary'});\n",
              "      const a = document.createElement('a');\n",
              "      a.href = window.URL.createObjectURL(blob);\n",
              "      a.download = filename;\n",
              "      div.appendChild(a);\n",
              "      a.click();\n",
              "      div.remove();\n",
              "    }\n",
              "  "
            ],
            "text/plain": [
              "<IPython.core.display.Javascript object>"
            ]
          },
          "metadata": {
            "tags": []
          }
        },
        {
          "output_type": "display_data",
          "data": {
            "application/javascript": [
              "download(\"download_4419d1df-ab0d-4469-904b-62c8d41a8c3a\", \"saved_model.zip\", 11460767)"
            ],
            "text/plain": [
              "<IPython.core.display.Javascript object>"
            ]
          },
          "metadata": {
            "tags": []
          }
        }
      ]
    },
    {
      "cell_type": "code",
      "metadata": {
        "colab": {
          "base_uri": "https://localhost:8080/"
        },
        "id": "A9ynJpC3T9e0",
        "outputId": "be720ccf-b853-41c8-c45f-98c3a7c8ada5"
      },
      "source": [
        "!pip install pyyaml h5py  # Required to save models in HDF5 format"
      ],
      "execution_count": null,
      "outputs": [
        {
          "output_type": "stream",
          "text": [
            "Requirement already satisfied: pyyaml in /usr/local/lib/python3.7/dist-packages (3.13)\n",
            "Requirement already satisfied: h5py in /usr/local/lib/python3.7/dist-packages (2.10.0)\n",
            "Requirement already satisfied: numpy>=1.7 in /usr/local/lib/python3.7/dist-packages (from h5py) (1.19.5)\n",
            "Requirement already satisfied: six in /usr/local/lib/python3.7/dist-packages (from h5py) (1.15.0)\n"
          ],
          "name": "stdout"
        }
      ]
    },
    {
      "cell_type": "code",
      "metadata": {
        "id": "kMDSZ2z-9wJA"
      },
      "source": [
        "import tensorflow as tf\r\n",
        "from tensorflow.keras import datasets, layers, models\r\n",
        "import matplotlib.pyplot as plt\r\n",
        "import numpy as np\r\n",
        "import time\r\n",
        "from sklearn.metrics import confusion_matrix\r\n",
        "from keras.models import load_model\r\n",
        "import os\r\n",
        "import gc\r\n",
        "from keras.utils import np_utils\r\n",
        "from tensorflow.keras.preprocessing.image import ImageDataGenerator"
      ],
      "execution_count": null,
      "outputs": []
    },
    {
      "cell_type": "code",
      "metadata": {
        "id": "PtweqfFJ9y9_"
      },
      "source": [
        "# load the dataset (that contain all the image and its label)\r\n",
        "(train_images, train_labels), (test_images, test_labels) = datasets.cifar10.load_data()\r\n",
        "\r\n",
        "#names of the classes\r\n",
        "class_names = ['airplane', 'automobile', 'bird', 'cat', 'deer',\r\n",
        "               'dog', 'frog', 'horse', 'ship', 'truck']\r\n",
        "\r\n",
        "# We know that cifar10 images are 32 pixels in each dimension.\r\n",
        "img_size = 32\r\n",
        "\r\n",
        "# Images are stored in one-dimensional arrays of this length.\r\n",
        "img_size_flat = img_size * img_size\r\n",
        "\r\n",
        "# Tuple with height and width of images used to reshape arrays.\r\n",
        "img_shape = (img_size, img_size)\r\n",
        "\r\n",
        "# Number of classes, one class for each of 10 digits.\r\n",
        "num_classes = len(class_names)"
      ],
      "execution_count": null,
      "outputs": []
    },
    {
      "cell_type": "code",
      "metadata": {
        "colab": {
          "base_uri": "https://localhost:8080/"
        },
        "id": "JSQL4auo-MP-",
        "outputId": "61543cf7-8766-4b42-c8e7-7c1335e1c21f"
      },
      "source": [
        "# tha shape of the train dataset\r\n",
        "print(\"the all train set: \\t\", train_images.shape)\r\n",
        "print(\"the all train labels: \\t\", train_labels.shape)\r\n",
        "combined_size = len(train_images)\r\n",
        "print(\"the all train size: \\t\", combined_size)\r\n",
        "train_size = int(0.7 * combined_size)#the size of the trainingset\r\n",
        "print(\"single model train size: \\t\", train_size)\r\n",
        "validation_size = combined_size - train_size\r\n",
        "print(\"single model validation size: \\t\", validation_size)"
      ],
      "execution_count": null,
      "outputs": [
        {
          "output_type": "stream",
          "text": [
            "the all train set: \t (50000, 32, 32, 3)\n",
            "the all train labels: \t (50000, 1)\n",
            "the all train size: \t 50000\n",
            "single model train size: \t 35000\n",
            "single model validation size: \t 15000\n"
          ],
          "name": "stdout"
        }
      ]
    },
    {
      "cell_type": "code",
      "metadata": {
        "id": "zoC10I3H_e4d"
      },
      "source": [
        "#some variables that build our program\r\n",
        "epochs = 15 #the number that every model train on its dataset\r\n",
        "nets = 4 #the number of the models\r\n",
        "train_size = int(0.7 * combined_size)#the size of the trainingset\r\n",
        "Models = [0]*nets #models that bulided\r\n",
        "history = []  #validation of the builded models\r\n",
        "test_loss = [0]*nets  #loss fn of the trained models\r\n",
        "test_acc = [0]*nets #the acurancy of the trained models\r\n",
        "startTrainingTime = time.time() #the stating time of the program\r\n",
        "loadedModels = [0]*nets #models that loaded from the saved files"
      ],
      "execution_count": null,
      "outputs": []
    },
    {
      "cell_type": "code",
      "metadata": {
        "id": "WMAI2saFM5HF"
      },
      "source": [
        "def dataAugmentation(x, y):\r\n",
        "  datagen = ImageDataGenerator(\r\n",
        "     rotation_range=40,\r\n",
        "     width_shift_range=0.2,\r\n",
        "     height_shift_range=0.2,\r\n",
        "     shear_range=0.2,\r\n",
        "     zoom_range=0.2,\r\n",
        "     horizontal_flip=True,\r\n",
        "     fill_mode='nearest')\r\n",
        "\r\n",
        "  datagen.fit(x)\r\n",
        "  return datagen.flow(x, y, batch_size=32)"
      ],
      "execution_count": null,
      "outputs": []
    },
    {
      "cell_type": "code",
      "metadata": {
        "id": "3XOOQW7Y_pBf"
      },
      "source": [
        "def random_training_set():\r\n",
        "    # Create a randomized index into the full / combined training-set.\r\n",
        "    idx = np.random.permutation(combined_size)\r\n",
        "\r\n",
        "    # Split the random index into training- and validation-sets.\r\n",
        "    idx_train = idx[0:train_size]\r\n",
        "    idx_validation = idx[train_size:]\r\n",
        "\r\n",
        "    # Select the images and labels for the new training-set.\r\n",
        "    x_train = train_images[idx_train, :]\r\n",
        "    y_train = train_labels[idx_train, :]\r\n",
        "    # Select the images and labels for the new validation-set.\r\n",
        "    x_validation = train_images[idx_validation, :]\r\n",
        "    y_validation = train_labels[idx_validation, :]\r\n",
        "\r\n",
        "    y_train = np_utils.to_categorical(y_train, num_classes)\r\n",
        "    y_validation = np_utils.to_categorical(y_validation, num_classes)\r\n",
        "    # Return the new training- and validation-sets.\r\n",
        "    return dataAugmentation(x_train, y_train), x_validation, y_validation"
      ],
      "execution_count": null,
      "outputs": []
    },
    {
      "cell_type": "code",
      "metadata": {
        "id": "z3eGYAIW_zHu"
      },
      "source": [
        "def build_model(modelNumber):\r\n",
        "    print(\"model #\", modelNumber)\r\n",
        "\r\n",
        "    # Create a random training-set. (subset of the all training set)\r\n",
        "    training_set, x_validation, y_validation = random_training_set()\r\n",
        "    resize_layer = tf.keras.Sequential([\r\n",
        "        layers.experimental.preprocessing.Resizing(img_size, img_size)\r\n",
        "      ])\r\n",
        "    # build the CNN models\r\n",
        "    Models[modelNumber] = models.Sequential([\r\n",
        "        resize_layer,\r\n",
        "        layers.Conv2D(32, (3,3), activation='relu', input_shape=(32, 32, 3)),\r\n",
        "        layers.Conv2D(32, (3,3), activation='relu'),\r\n",
        "        layers.MaxPooling2D(2, 2),\r\n",
        "        layers.Conv2D(64, (3,3), activation='relu'),\r\n",
        "        layers.Conv2D(64, (3,3), activation='relu'),\r\n",
        "        layers.MaxPooling2D(2,2),\r\n",
        "        layers.Flatten(),\r\n",
        "        layers.Dense(128, activation='relu'),\r\n",
        "        layers.Dense(num_classes)\r\n",
        "    ]) \r\n",
        "    # compile the model\r\n",
        "    Models[modelNumber].compile(\r\n",
        "              optimizer='adam', \r\n",
        "              loss=tf.keras.losses.CategoricalCrossentropy(from_logits=True, label_smoothing=0.1),\r\n",
        "              metrics=['accuracy'])\r\n",
        "    \r\n",
        "    # vaildate/train the model\r\n",
        "    history.append(Models[modelNumber].fit(training_set,\r\n",
        "              epochs=epochs, validation_data=(x_validation, y_validation)))\r\n",
        "    # evaluate the model (know how perform our single model)\r\n",
        "    print(\"model #\", modelNumber, \"Done\")\r\n",
        "    test_loss[modelNumber], test_acc[modelNumber] = Models[modelNumber].evaluate(x_validation, y_validation, verbose=2)"
      ],
      "execution_count": null,
      "outputs": []
    },
    {
      "cell_type": "code",
      "metadata": {
        "id": "i9lLS8i9AGAG"
      },
      "source": [
        "def load_all_models ():\r\n",
        "  #load models at loadedModels array\r\n",
        "  for i in range(nets):\r\n",
        "    dir = 'saved_model/model'+str(i)\r\n",
        "    loadedModels[i] = load_model(dir)"
      ],
      "execution_count": null,
      "outputs": []
    },
    {
      "cell_type": "code",
      "metadata": {
        "id": "ujTcW8TrAJt9"
      },
      "source": [
        "def save_all_models ():\r\n",
        "  #save all models\r\n",
        "  !mkdir -p saved_model\r\n",
        "  for i in range(nets):\r\n",
        "    Models[i].save(\"saved_model/model\"+str(i))"
      ],
      "execution_count": null,
      "outputs": []
    },
    {
      "cell_type": "code",
      "metadata": {
        "id": "YlzNhHd1ANRq"
      },
      "source": [
        "def predict_single_image(img):\r\n",
        "  img = np.expand_dims(img, 0)\r\n",
        "  prediction = [0]*nets\r\n",
        "  for i in range(nets):\r\n",
        "    prediction[i] = loadedModels[0].predict(img)\r\n",
        "  \r\n",
        "  prediction = np.array(prediction)\r\n",
        "  prediction_array = prediction.ravel()\r\n",
        "  # argmax across classes\r\n",
        "  outcomes = np.argmax(prediction_array,  axis=0)\r\n",
        "  return outcomes"
      ],
      "execution_count": null,
      "outputs": []
    },
    {
      "cell_type": "code",
      "metadata": {
        "id": "dX2HlEaECdOQ"
      },
      "source": [
        "def ensamble_acc():\r\n",
        "  pred_labels = []\r\n",
        "  is_correct_labels = 0\r\n",
        "  for i in range(len(test_images)):\r\n",
        "    pred_labels.append(predict_single_image(test_images[i]))\r\n",
        "    gc.collect()\r\n",
        "    #append 0 if the prediction is wrong, append 1 otherwise\r\n",
        "    #print(pred_labels[i] == test_labels[i])\r\n",
        "    # if (i == 1000):\r\n",
        "    #   break\r\n",
        "    if (pred_labels[i] == test_labels[i]):\r\n",
        "      is_correct_labels += 1\r\n",
        "  \r\n",
        "  return (is_correct_labels/len(test_images))"
      ],
      "execution_count": null,
      "outputs": []
    },
    {
      "cell_type": "code",
      "metadata": {
        "colab": {
          "base_uri": "https://localhost:8080/"
        },
        "id": "vlJ1OKJCASVp",
        "outputId": "603c847b-c52c-4a52-b8d9-130cea919683"
      },
      "source": [
        "#load or build the models\r\n",
        "if not os.path.isdir('saved_model/'):\r\n",
        "  for i in range(nets):\r\n",
        "    build_model(i)\r\n",
        "  save_all_models()\r\n",
        "print(\"training time = \",time.time() - startTrainingTime)\r\n",
        "load_all_models()"
      ],
      "execution_count": null,
      "outputs": [
        {
          "output_type": "stream",
          "text": [
            "model # 0\n",
            "Epoch 1/15\n",
            "1094/1094 [==============================] - 147s 134ms/step - loss: 3.3780 - accuracy: 0.1986 - val_loss: 1.7771 - val_accuracy: 0.3989\n",
            "Epoch 2/15\n",
            "1094/1094 [==============================] - 146s 133ms/step - loss: 1.8665 - accuracy: 0.3593 - val_loss: 1.7055 - val_accuracy: 0.4465\n",
            "Epoch 3/15\n",
            "1094/1094 [==============================] - 145s 133ms/step - loss: 1.7668 - accuracy: 0.4118 - val_loss: 1.7526 - val_accuracy: 0.4380\n",
            "Epoch 4/15\n",
            "1094/1094 [==============================] - 146s 134ms/step - loss: 1.7237 - accuracy: 0.4322 - val_loss: 1.6108 - val_accuracy: 0.4969\n",
            "Epoch 5/15\n",
            "1094/1094 [==============================] - 147s 134ms/step - loss: 1.6705 - accuracy: 0.4621 - val_loss: 1.6637 - val_accuracy: 0.5020\n",
            "Epoch 6/15\n",
            "1094/1094 [==============================] - 145s 133ms/step - loss: 1.6458 - accuracy: 0.4794 - val_loss: 1.7148 - val_accuracy: 0.4729\n",
            "Epoch 7/15\n",
            "1094/1094 [==============================] - 146s 133ms/step - loss: 1.6251 - accuracy: 0.4895 - val_loss: 1.6942 - val_accuracy: 0.5055\n",
            "Epoch 8/15\n",
            "1094/1094 [==============================] - 145s 132ms/step - loss: 1.6039 - accuracy: 0.4997 - val_loss: 1.5491 - val_accuracy: 0.5313\n",
            "Epoch 9/15\n",
            "1094/1094 [==============================] - 145s 132ms/step - loss: 1.5723 - accuracy: 0.5144 - val_loss: 1.4758 - val_accuracy: 0.5787\n",
            "Epoch 10/15\n",
            "1094/1094 [==============================] - 145s 132ms/step - loss: 1.5584 - accuracy: 0.5240 - val_loss: 1.5470 - val_accuracy: 0.5461\n",
            "Epoch 11/15\n",
            "1094/1094 [==============================] - 145s 133ms/step - loss: 1.5454 - accuracy: 0.5297 - val_loss: 1.4155 - val_accuracy: 0.6037\n",
            "Epoch 12/15\n",
            "1094/1094 [==============================] - 145s 132ms/step - loss: 1.5243 - accuracy: 0.5390 - val_loss: 1.4037 - val_accuracy: 0.6077\n",
            "Epoch 13/15\n",
            "1094/1094 [==============================] - 146s 134ms/step - loss: 1.5129 - accuracy: 0.5459 - val_loss: 1.3646 - val_accuracy: 0.6282\n",
            "Epoch 14/15\n",
            "1094/1094 [==============================] - 145s 132ms/step - loss: 1.5067 - accuracy: 0.5473 - val_loss: 1.4707 - val_accuracy: 0.5861\n",
            "Epoch 15/15\n",
            "1094/1094 [==============================] - 146s 134ms/step - loss: 1.4979 - accuracy: 0.5508 - val_loss: 1.4225 - val_accuracy: 0.6009\n",
            "model # 0 Done\n",
            "469/469 - 11s - loss: 1.4225 - accuracy: 0.6009\n",
            "model # 1\n",
            "Epoch 1/15\n",
            "1094/1094 [==============================] - 147s 134ms/step - loss: 2.3218 - accuracy: 0.2446 - val_loss: 1.7493 - val_accuracy: 0.4182\n",
            "Epoch 2/15\n",
            "1094/1094 [==============================] - 143s 131ms/step - loss: 1.8484 - accuracy: 0.3707 - val_loss: 1.7154 - val_accuracy: 0.4353\n",
            "Epoch 3/15\n",
            "1094/1094 [==============================] - 144s 131ms/step - loss: 1.7834 - accuracy: 0.4056 - val_loss: 1.7618 - val_accuracy: 0.4465\n",
            "Epoch 4/15\n",
            "1094/1094 [==============================] - 144s 131ms/step - loss: 1.7249 - accuracy: 0.4357 - val_loss: 1.5369 - val_accuracy: 0.5230\n",
            "Epoch 5/15\n",
            "1094/1094 [==============================] - 143s 131ms/step - loss: 1.6819 - accuracy: 0.4557 - val_loss: 1.5536 - val_accuracy: 0.5243\n",
            "Epoch 6/15\n",
            "1094/1094 [==============================] - 144s 132ms/step - loss: 1.6382 - accuracy: 0.4736 - val_loss: 1.5026 - val_accuracy: 0.5471\n",
            "Epoch 7/15\n",
            "1094/1094 [==============================] - 145s 132ms/step - loss: 1.6190 - accuracy: 0.4880 - val_loss: 1.5256 - val_accuracy: 0.5505\n",
            "Epoch 8/15\n",
            "1094/1094 [==============================] - 147s 134ms/step - loss: 1.6039 - accuracy: 0.5016 - val_loss: 1.4729 - val_accuracy: 0.5649\n",
            "Epoch 9/15\n",
            "1094/1094 [==============================] - 145s 133ms/step - loss: 1.5919 - accuracy: 0.5051 - val_loss: 1.5287 - val_accuracy: 0.5549\n",
            "Epoch 10/15\n",
            "1094/1094 [==============================] - 145s 133ms/step - loss: 1.5564 - accuracy: 0.5240 - val_loss: 1.4524 - val_accuracy: 0.5758\n",
            "Epoch 11/15\n",
            "1094/1094 [==============================] - 149s 136ms/step - loss: 1.5377 - accuracy: 0.5347 - val_loss: 1.4666 - val_accuracy: 0.5760\n",
            "Epoch 12/15\n",
            "1094/1094 [==============================] - 147s 135ms/step - loss: 1.5468 - accuracy: 0.5283 - val_loss: 1.4584 - val_accuracy: 0.5819\n",
            "Epoch 13/15\n",
            "1094/1094 [==============================] - 146s 134ms/step - loss: 1.5279 - accuracy: 0.5400 - val_loss: 1.4138 - val_accuracy: 0.5995\n",
            "Epoch 14/15\n",
            "1094/1094 [==============================] - 145s 133ms/step - loss: 1.5132 - accuracy: 0.5446 - val_loss: 1.4114 - val_accuracy: 0.6037\n",
            "Epoch 15/15\n",
            "1094/1094 [==============================] - 146s 133ms/step - loss: 1.5002 - accuracy: 0.5507 - val_loss: 1.3613 - val_accuracy: 0.6224\n",
            "model # 1 Done\n",
            "469/469 - 11s - loss: 1.3613 - accuracy: 0.6224\n",
            "model # 2\n",
            "Epoch 1/15\n",
            "1094/1094 [==============================] - 148s 135ms/step - loss: 2.3974 - accuracy: 0.2400 - val_loss: 1.7992 - val_accuracy: 0.3973\n",
            "Epoch 2/15\n",
            "1094/1094 [==============================] - 147s 135ms/step - loss: 1.8408 - accuracy: 0.3717 - val_loss: 1.6613 - val_accuracy: 0.4631\n",
            "Epoch 3/15\n",
            "1094/1094 [==============================] - 147s 135ms/step - loss: 1.7541 - accuracy: 0.4264 - val_loss: 1.6581 - val_accuracy: 0.4705\n",
            "Epoch 4/15\n",
            "1094/1094 [==============================] - 147s 134ms/step - loss: 1.6915 - accuracy: 0.4518 - val_loss: 1.6029 - val_accuracy: 0.5216\n",
            "Epoch 5/15\n",
            "1094/1094 [==============================] - 147s 135ms/step - loss: 1.6565 - accuracy: 0.4716 - val_loss: 1.4885 - val_accuracy: 0.5627\n",
            "Epoch 6/15\n",
            "1094/1094 [==============================] - 149s 136ms/step - loss: 1.6304 - accuracy: 0.4848 - val_loss: 1.4654 - val_accuracy: 0.5677\n",
            "Epoch 7/15\n",
            "1094/1094 [==============================] - 147s 134ms/step - loss: 1.6040 - accuracy: 0.5004 - val_loss: 1.5513 - val_accuracy: 0.5440\n",
            "Epoch 8/15\n",
            "1094/1094 [==============================] - 147s 134ms/step - loss: 1.5883 - accuracy: 0.5058 - val_loss: 1.4887 - val_accuracy: 0.5651\n",
            "Epoch 9/15\n",
            "1094/1094 [==============================] - 148s 135ms/step - loss: 1.5558 - accuracy: 0.5244 - val_loss: 1.4560 - val_accuracy: 0.5706\n",
            "Epoch 10/15\n",
            "1094/1094 [==============================] - 148s 135ms/step - loss: 1.5557 - accuracy: 0.5250 - val_loss: 1.5005 - val_accuracy: 0.5695\n",
            "Epoch 11/15\n",
            "1094/1094 [==============================] - 147s 135ms/step - loss: 1.5492 - accuracy: 0.5271 - val_loss: 1.4094 - val_accuracy: 0.6036\n",
            "Epoch 12/15\n",
            "1094/1094 [==============================] - 147s 135ms/step - loss: 1.5255 - accuracy: 0.5418 - val_loss: 1.4333 - val_accuracy: 0.5909\n",
            "Epoch 13/15\n",
            "1094/1094 [==============================] - 146s 133ms/step - loss: 1.5290 - accuracy: 0.5357 - val_loss: 1.4147 - val_accuracy: 0.5964\n",
            "Epoch 14/15\n",
            "1094/1094 [==============================] - 147s 135ms/step - loss: 1.5058 - accuracy: 0.5476 - val_loss: 1.3953 - val_accuracy: 0.6096\n",
            "Epoch 15/15\n",
            "1094/1094 [==============================] - 148s 135ms/step - loss: 1.4930 - accuracy: 0.5505 - val_loss: 1.4566 - val_accuracy: 0.5875\n",
            "model # 2 Done\n",
            "469/469 - 11s - loss: 1.4566 - accuracy: 0.5875\n",
            "model # 3\n",
            "Epoch 1/15\n",
            "1094/1094 [==============================] - 147s 134ms/step - loss: 2.9970 - accuracy: 0.2223 - val_loss: 1.8646 - val_accuracy: 0.3732\n",
            "Epoch 2/15\n",
            "1094/1094 [==============================] - 147s 134ms/step - loss: 1.8765 - accuracy: 0.3551 - val_loss: 1.7161 - val_accuracy: 0.4419\n",
            "Epoch 3/15\n",
            "1094/1094 [==============================] - 146s 133ms/step - loss: 1.8025 - accuracy: 0.3967 - val_loss: 1.6125 - val_accuracy: 0.4859\n",
            "Epoch 4/15\n",
            "1094/1094 [==============================] - 146s 134ms/step - loss: 1.7563 - accuracy: 0.4194 - val_loss: 1.6598 - val_accuracy: 0.4777\n",
            "Epoch 5/15\n",
            "1094/1094 [==============================] - 145s 133ms/step - loss: 1.7125 - accuracy: 0.4433 - val_loss: 1.5719 - val_accuracy: 0.5149\n",
            "Epoch 6/15\n",
            "1094/1094 [==============================] - 146s 133ms/step - loss: 1.6866 - accuracy: 0.4497 - val_loss: 1.5241 - val_accuracy: 0.5341\n",
            "Epoch 7/15\n",
            "1094/1094 [==============================] - 145s 133ms/step - loss: 1.6440 - accuracy: 0.4776 - val_loss: 1.4631 - val_accuracy: 0.5707\n",
            "Epoch 8/15\n",
            "1094/1094 [==============================] - 147s 134ms/step - loss: 1.6189 - accuracy: 0.4914 - val_loss: 1.5464 - val_accuracy: 0.5443\n",
            "Epoch 9/15\n",
            "1094/1094 [==============================] - 148s 135ms/step - loss: 1.6011 - accuracy: 0.5007 - val_loss: 1.4667 - val_accuracy: 0.5823\n",
            "Epoch 10/15\n",
            "1094/1094 [==============================] - 148s 135ms/step - loss: 1.5896 - accuracy: 0.5102 - val_loss: 1.5032 - val_accuracy: 0.5539\n",
            "Epoch 11/15\n",
            "1094/1094 [==============================] - 147s 135ms/step - loss: 1.5685 - accuracy: 0.5173 - val_loss: 1.5251 - val_accuracy: 0.5540\n",
            "Epoch 12/15\n",
            "1094/1094 [==============================] - 148s 135ms/step - loss: 1.5484 - accuracy: 0.5265 - val_loss: 1.5223 - val_accuracy: 0.5698\n",
            "Epoch 13/15\n",
            "1094/1094 [==============================] - 146s 133ms/step - loss: 1.5372 - accuracy: 0.5336 - val_loss: 1.4191 - val_accuracy: 0.6055\n",
            "Epoch 14/15\n",
            "1094/1094 [==============================] - 147s 134ms/step - loss: 1.5373 - accuracy: 0.5344 - val_loss: 1.4000 - val_accuracy: 0.6065\n",
            "Epoch 15/15\n",
            "1094/1094 [==============================] - 149s 136ms/step - loss: 1.5174 - accuracy: 0.5418 - val_loss: 1.3924 - val_accuracy: 0.6192\n",
            "model # 3 Done\n",
            "469/469 - 12s - loss: 1.3924 - accuracy: 0.6192\n",
            "INFO:tensorflow:Assets written to: saved_model/model0/assets\n",
            "INFO:tensorflow:Assets written to: saved_model/model1/assets\n",
            "INFO:tensorflow:Assets written to: saved_model/model2/assets\n",
            "INFO:tensorflow:Assets written to: saved_model/model3/assets\n",
            "training time =  8833.666753053665\n"
          ],
          "name": "stdout"
        }
      ]
    },
    {
      "cell_type": "code",
      "metadata": {
        "id": "D08OpcnGCxu2",
        "colab": {
          "base_uri": "https://localhost:8080/",
          "height": 1000
        },
        "outputId": "36e5b327-220f-467c-8430-1bbd33172ddf"
      },
      "source": [
        "def show_all_models_graphs ():\r\n",
        "  for i in range(nets):\r\n",
        "    plt.plot(history[i].history['accuracy'], label='accuracy')\r\n",
        "    plt.plot(history[i].history['val_accuracy'], label = 'val_accuracy')\r\n",
        "    plt.xlabel('Epoch')\r\n",
        "    plt.ylabel('Accuracy')\r\n",
        "    plt.ylim([0.5, 1])\r\n",
        "    plt.legend(loc='upper left')\r\n",
        "    plt.title('Model #{}'.format(i))\r\n",
        "    plt.show()\r\n",
        "\r\n",
        "\r\n",
        "show_all_models_graphs ()"
      ],
      "execution_count": null,
      "outputs": [
        {
          "output_type": "display_data",
          "data": {
            "image/png": "[encoded data removed]",
            "text/plain": [
              "<Figure size 432x288 with 1 Axes>"
            ]
          },
          "metadata": {
            "tags": [],
            "needs_background": "light"
          }
        },
        {
          "output_type": "display_data",
          "data": {
            "image/png": "[encoded data removed]",
            "text/plain": [
              "<Figure size 432x288 with 1 Axes>"
            ]
          },
          "metadata": {
            "tags": [],
            "needs_background": "light"
          }
        },
        {
          "output_type": "display_data",
          "data": {
            "image/png": "[encoded data removed]",
            "text/plain": [
              "<Figure size 432x288 with 1 Axes>"
            ]
          },
          "metadata": {
            "tags": [],
            "needs_background": "light"
          }
        },
        {
          "output_type": "display_data",
          "data": {
            "image/png": "[encoded data removed]",
            "text/plain": [
              "<Figure size 432x288 with 1 Axes>"
            ]
          },
          "metadata": {
            "tags": [],
            "needs_background": "light"
          }
        }
      ]
    },
    {
      "cell_type": "code",
      "metadata": {
        "id": "g8dRfWyfAeyq",
        "colab": {
          "base_uri": "https://localhost:8080/",
          "height": 162
        },
        "outputId": "aa63aa09-1254-4e2a-d3f9-d7e9a28c6e71"
      },
      "source": [
        "predictImag = 2\r\n",
        "print(class_names[predict_single_image(test_images[predictImag])])\r\n",
        "plt.figure(figsize=(10,10))\r\n",
        "plt.subplot(5,5,1)\r\n",
        "plt.xticks([])\r\n",
        "plt.yticks([])\r\n",
        "plt.grid(False)\r\n",
        "plt.imshow(test_images[predictImag], cmap=plt.cm.binary)\r\n",
        "plt.show()\r\n",
        "print(class_names[int(test_labels[predictImag])])"
      ],
      "execution_count": null,
      "outputs": [
        {
          "output_type": "stream",
          "text": [
            "ship\n"
          ],
          "name": "stdout"
        },
        {
          "output_type": "display_data",
          "data": {
            "image/png": "[encoded data removed]",
            "text/plain": [
              "<Figure size 720x720 with 1 Axes>"
            ]
          },
          "metadata": {
            "tags": []
          }
        },
        {
          "output_type": "stream",
          "text": [
            "ship\n"
          ],
          "name": "stdout"
        }
      ]
    }
  ]
}